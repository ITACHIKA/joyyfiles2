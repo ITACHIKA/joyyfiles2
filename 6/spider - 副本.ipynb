{
 "cells": [
  {
   "cell_type": "code",
   "execution_count": 1,
   "metadata": {},
   "outputs": [],
   "source": [
    "import requests\n",
    "from bs4 import BeautifulSoup as bs\n",
    "import json\n",
    "import pandas as pd\n",
    "from rich.progress import Progress\n",
    "from requests.adapters import HTTPAdapter\n",
    "import xlsxwriter\n",
    "\n",
    "headers = {\n",
    "     \"User-Agent\": \"Mozilla/5.0 (Windows NT 10.0; Win64; x64) AppleWebKit/537.36 (KHTML, like Gecko) Chrome/125.0.0.0 Safari/537.36\"\n",
    "}"
   ]
  },
  {
   "cell_type": "code",
   "execution_count": 2,
   "metadata": {},
   "outputs": [],
   "source": [
    "bookGroupIDList=\"https://www.ptpress.com.cn/hotBook/getParentTagIdList\"\n",
    "groupID=[]\n",
    "\n",
    "groupIdRaw=requests.get(bookGroupIDList,headers=headers)\n",
    "groupIdList=json.loads(groupIdRaw.content)\n",
    "groupIdListData=groupIdList[\"data\"]\n",
    "#print(groupIdListData)\n",
    "for eachId in groupIdListData:\n",
    "    parentTagID=eachId[\"PARENTTAGID\"]\n",
    "    parentTagName=eachId[\"PARENTTAGNAME\"]\n",
    "    groupID.append([parentTagID,parentTagName])\n",
    "#print(groupID)"
   ]
  },
  {
   "cell_type": "code",
   "execution_count": null,
   "metadata": {},
   "outputs": [],
   "source": [
    "getBookListUrl=\"https://www.ptpress.com.cn/hotBook/getHotBookList?parentTagId=\"\n",
    "getBookUrl=\"https://www.ptpress.com.cn/bookinfo/getBookDetailsById\"\n",
    "allBooksCollection=[]\n",
    "allTotal=0\n",
    "for eachID in groupID:\n",
    "    with Progress() as progress:\n",
    "        status=progress.add_task(\"Running\",total=10000)\n",
    "        curId=eachID[0]\n",
    "        trialGet=requests.get(getBookListUrl+curId+\"&rows=1&page=1\",headers=headers)\n",
    "        #print(trialGet.content)\n",
    "        trialGetJson=json.loads(trialGet.content)\n",
    "        totalOfGroup=trialGetJson[\"data\"][\"total\"] # to get total number of books in this category\n",
    "        allTotal+=totalOfGroup\n",
    "        print(totalOfGroup)\n",
    "        continue\n",
    "        rows=50\n",
    "        curPage=1\n",
    "        while(rows*(curPage-1)<totalOfGroup):\n",
    "            progress.update(status,advance=50/allTotal*10000)\n",
    "            reqSess=requests.session()\n",
    "            reqSess.mount('https://',HTTPAdapter(max_retries=10))\n",
    "            getBooks=reqSess.get(getBookListUrl+curId+\"&rows=\"+str(rows)+\"&page=\"+str(curPage),headers=headers)\n",
    "            getBooksJson=json.loads(getBooks.content)\n",
    "            books=getBooksJson[\"data\"][\"rows\"]\n",
    "            for eachBook in books:\n",
    "                bookID=eachBook[\"bookId\"]\n",
    "                #print(getBookUrl+bookID)\n",
    "                bookDetailRaw=reqSess.post(getBookUrl,headers=headers,data={\"bookId\":bookID},timeout=60)\n",
    "                bookDetailJson=json.loads(bookDetailRaw.content)\n",
    "                #print(bookDetailJson)\n",
    "\n",
    "                jsonDatParams1=[\"bookName\",\"author\",\"bookTypeName\",\"discountPrice\",\"bookDiscount\",\"price\"]\n",
    "                jsonDatParams2=[\"pages\",\"isbn\",\"publishDate\"]\n",
    "                jsonDatParams3=[\"data\"]\n",
    "                \n",
    "                singleBookDetail=[]\n",
    "\n",
    "                for param in jsonDatParams1:\n",
    "                    try:\n",
    "                        singleBookDetail.append(bookDetailJson[\"data\"][param])\n",
    "                    except KeyError as e:\n",
    "                        print(e)\n",
    "                        print(\"Missing json info,ignore.\")\n",
    "                        singleBookDetail.append(\"NULL\")\n",
    "                for param in jsonDatParams2:\n",
    "                    try:\n",
    "                        singleBookDetail.append(bookDetailJson[\"data\"][\"bookDetail\"][\"data\"][param])\n",
    "                    except KeyError as e:\n",
    "                        print(e)\n",
    "                        print(\"Missing json info,ignore.\")\n",
    "                        singleBookDetail.append(\"NULL\")\n",
    "                for param in jsonDatParams3:\n",
    "                    try:\n",
    "                        singleBookDetail.append(bookDetailJson[\"data\"][\"resume\"][param])\n",
    "                    except KeyError as e:\n",
    "                        print(e)\n",
    "                        print(\"Missing json info,ignore.\")\n",
    "                        singleBookDetail.append(\"NULL\")\n",
    "\n",
    "                allBooksCollection.append(singleBookDetail)\n",
    "                    #print([bookName,bookAuthor,bookType,bookSummary,bookDiscPrice,bookPrice,bookPage,bookISBN,bookPubDate])\n",
    "            curPage+=1"
   ]
  },
  {
   "cell_type": "code",
   "execution_count": 62,
   "metadata": {},
   "outputs": [],
   "source": [
    "finalData=pd.DataFrame(allBooksCollection)\n",
    "workbook=xlsxwriter.Workbook('books.xlsx')\n",
    "header=[\"bookName\",\"bookAuthor\",\"bookType\",\"bookDisPrice\",\"bookDisPerc\",\"bookOrgPrice\",\"bookPages\",\"bookISBN\",\"bookDate\",\"bookIntro\"]\n",
    "finalData.to_excel(\"books.xlsx\",header=header,index=False)"
   ]
  }
 ],
 "metadata": {
  "kernelspec": {
   "display_name": "Python 3",
   "language": "python",
   "name": "python3"
  },
  "language_info": {
   "codemirror_mode": {
    "name": "ipython",
    "version": 3
   },
   "file_extension": ".py",
   "mimetype": "text/x-python",
   "name": "python",
   "nbconvert_exporter": "python",
   "pygments_lexer": "ipython3",
   "version": "3.12.4"
  }
 },
 "nbformat": 4,
 "nbformat_minor": 2
}
